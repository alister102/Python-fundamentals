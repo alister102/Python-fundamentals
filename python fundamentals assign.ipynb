{
 "cells": [
  {
   "cell_type": "code",
   "execution_count": null,
   "id": "630fd617-b617-4e60-b7c9-fb4ddb8646c4",
   "metadata": {},
   "outputs": [],
   "source": [
    "Q1."
   ]
  },
  {
   "cell_type": "code",
   "execution_count": 11,
   "id": "652eb97d-dc61-4a4a-9901-b9d32b008938",
   "metadata": {},
   "outputs": [
    {
     "name": "stdin",
     "output_type": "stream",
     "text": [
      "enter the values of rows and columns:  3,4\n"
     ]
    },
    {
     "name": "stdout",
     "output_type": "stream",
     "text": [
      "[[0, 0, 0, 0], [0, 1, 2, 3], [0, 2, 4, 6]]\n"
     ]
    }
   ],
   "source": [
    "\n",
    "rows,cols=map(int,input(\"enter the values of rows and columns: \").split(','))\n",
    "list=[[0 for c in range(cols)] for r in range(rows)]\n",
    "\n",
    "for r in range(rows):\n",
    "    for c in range(cols):\n",
    "        list[r][c]=r*c\n",
    "\n",
    "print(list)"
   ]
  },
  {
   "cell_type": "code",
   "execution_count": null,
   "id": "71ef795d-bd8e-41e1-ab9d-85c302ff9024",
   "metadata": {},
   "outputs": [],
   "source": [
    "Q2"
   ]
  },
  {
   "cell_type": "code",
   "execution_count": 18,
   "id": "ff7db704-af42-4056-a9f5-4382d06024ef",
   "metadata": {},
   "outputs": [
    {
     "name": "stdin",
     "output_type": "stream",
     "text": [
      "enter the values: without,hello,bag,world\n"
     ]
    },
    {
     "name": "stdout",
     "output_type": "stream",
     "text": [
      "bag,hello,without,world\n"
     ]
    }
   ],
   "source": [
    "\n",
    "str=input(\"enter the values:\")\n",
    "l=str.split(',')\n",
    "l.sort()\n",
    "new_list=','.join(l)\n",
    "\n",
    "print(new_list)"
   ]
  },
  {
   "cell_type": "code",
   "execution_count": null,
   "id": "6cc9c903-02c9-41f8-848f-0a8ca8fcd9bf",
   "metadata": {},
   "outputs": [],
   "source": [
    "Q3"
   ]
  },
  {
   "cell_type": "code",
   "execution_count": 29,
   "id": "6d77cf2a-a9ca-4561-bffc-ea681b8a7407",
   "metadata": {},
   "outputs": [
    {
     "name": "stdin",
     "output_type": "stream",
     "text": [
      "Enter the sentence: hello world and practice makes perfect and hello world again\n"
     ]
    },
    {
     "name": "stdout",
     "output_type": "stream",
     "text": [
      "again and hello makes perfect practice world\n"
     ]
    }
   ],
   "source": [
    "str=input(\"Enter the sentence:\")\n",
    "l=str.split()\n",
    "new_list= sorted(set(l))\n",
    "fin_list=\" \".join(new_list)\n",
    "\n",
    "print(fin_list)\n"
   ]
  },
  {
   "cell_type": "code",
   "execution_count": null,
   "id": "8994959d-491c-4480-a661-82cb9cb7edfa",
   "metadata": {},
   "outputs": [],
   "source": [
    "Q4"
   ]
  },
  {
   "cell_type": "code",
   "execution_count": 2,
   "id": "e81128d3-62c8-4cdb-b893-2c8179b1cddc",
   "metadata": {},
   "outputs": [
    {
     "name": "stdout",
     "output_type": "stream",
     "text": [
      "2000,2002,2004,2006,2008,2020,2022,2024,2026,2028,2040,2042,2044,2046,2048,2060,2062,2064,2066,2068,2080,2082,2084,2086,2088,2200,2202,2204,2206,2208,2220,2222,2224,2226,2228,2240,2242,2244,2246,2248,2260,2262,2264,2266,2268,2280,2282,2284,2286,2288,2400,2402,2404,2406,2408,2420,2422,2424,2426,2428,2440,2442,2444,2446,2448,2460,2462,2464,2466,2468,2480,2482,2484,2486,2488,2600,2602,2604,2606,2608,2620,2622,2624,2626,2628,2640,2642,2644,2646,2648,2660,2662,2664,2666,2668,2680,2682,2684,2686,2688,2800,2802,2804,2806,2808,2820,2822,2824,2826,2828,2840,2842,2844,2846,2848,2860,2862,2864,2866,2868,2880,2882,2884,2886,2888\n"
     ]
    }
   ],
   "source": [
    "values = []\n",
    "for i in range(1000, 3001):\n",
    "    s = str(i)\n",
    "    if (int(s[0])%2 == 0) and (int(s[1])%2 == 0) and (int(s[2])%2 == 0) and (int(s[3])%2 == 0):\n",
    "        values.append(s)\n",
    "        \n",
    "print(\",\".join(values))"
   ]
  },
  {
   "cell_type": "code",
   "execution_count": null,
   "id": "ace2e660-fb80-4418-ac59-238250c9e2cc",
   "metadata": {},
   "outputs": [],
   "source": [
    "Q5"
   ]
  },
  {
   "cell_type": "code",
   "execution_count": 14,
   "id": "5aefa462-f89e-4ebe-a7e9-8a0f7c12d62d",
   "metadata": {},
   "outputs": [
    {
     "name": "stdin",
     "output_type": "stream",
     "text": [
      " hello world! 123\n"
     ]
    },
    {
     "name": "stdout",
     "output_type": "stream",
     "text": [
      "LETTERS: 10\n",
      "DIGITS: 3\n"
     ]
    }
   ],
   "source": [
    "values=input()\n",
    "l=0\n",
    "d=0\n",
    "for i in values:\n",
    "    if i.isalpha():\n",
    "        l+=1\n",
    "    elif i.isnumeric():\n",
    "        d+=1\n",
    "print('LETTERS:',l)\n",
    "print(\"DIGITS:\",d)\n",
    "    "
   ]
  },
  {
   "cell_type": "code",
   "execution_count": null,
   "id": "b2e90cf2-faf4-46e0-a3d6-2e627a7584f2",
   "metadata": {},
   "outputs": [],
   "source": [
    "Q6"
   ]
  },
  {
   "cell_type": "code",
   "execution_count": 1,
   "id": "351661be-6aa3-4292-a2f3-6b66d47fa914",
   "metadata": {},
   "outputs": [
    {
     "name": "stdin",
     "output_type": "stream",
     "text": [
      "  Hello world!\n"
     ]
    },
    {
     "name": "stdout",
     "output_type": "stream",
     "text": [
      "UPPER CASE: 1\n",
      "LOWER CASE: 9\n"
     ]
    }
   ],
   "source": [
    "values=input()\n",
    "upper=0\n",
    "lower=0\n",
    "for i in values:\n",
    "    if i.isupper():\n",
    "        upper+=1\n",
    "    if i.islower():\n",
    "        lower+=1\n",
    "print(\"UPPER CASE:\",upper) \n",
    "print(\"LOWER CASE:\",lower)\n",
    "        "
   ]
  },
  {
   "cell_type": "code",
   "execution_count": null,
   "id": "077de97b-40c2-496b-897f-83a73086e0a1",
   "metadata": {},
   "outputs": [],
   "source": [
    "Q7"
   ]
  },
  {
   "cell_type": "code",
   "execution_count": 11,
   "id": "430efa7b-bcf2-437e-91e7-e05f3bc1788e",
   "metadata": {},
   "outputs": [
    {
     "name": "stdout",
     "output_type": "stream",
     "text": [
      "Enter transactions:\n"
     ]
    },
    {
     "name": "stdin",
     "output_type": "stream",
     "text": [
      " D 300\n",
      " D 300\n",
      " W 200\n",
      " D 100\n",
      " done\n"
     ]
    },
    {
     "name": "stdout",
     "output_type": "stream",
     "text": [
      "Net Amount: 500\n"
     ]
    }
   ],
   "source": [
    "def compute_net_amount():\n",
    "    net_amount = 0  \n",
    "    print(\"Enter transactions:\")\n",
    "    while True:\n",
    "        transaction = input()  \n",
    "        if transaction.lower() == 'done': \n",
    "            break\n",
    "        trans_type, amount = transaction.split()\n",
    "        amount = int(amount)\n",
    "        \n",
    "        if trans_type == 'D':  \n",
    "            net_amount += amount\n",
    "        elif trans_type == 'W': \n",
    "            net_amount -= amount\n",
    "    print(f\"Net Amount: {net_amount}\")\n",
    "compute_net_amount()\n"
   ]
  },
  {
   "cell_type": "code",
   "execution_count": null,
   "id": "cce2df82-88c8-4db1-a8af-b7971cb07ab4",
   "metadata": {},
   "outputs": [],
   "source": [
    "Q8"
   ]
  },
  {
   "cell_type": "code",
   "execution_count": 3,
   "id": "609d0240-25ba-438e-851d-4271ee7965c3",
   "metadata": {},
   "outputs": [
    {
     "name": "stdin",
     "output_type": "stream",
     "text": [
      " ABd1234@1,a F1#,2w3E*,2We3345\n"
     ]
    },
    {
     "name": "stdout",
     "output_type": "stream",
     "text": [
      "ABd1234@1\n"
     ]
    }
   ],
   "source": [
    "def is_low(x):                  \n",
    "    for i in x:\n",
    "        if 'a'<=i and i<='z':\n",
    "            return True\n",
    "    return  False\n",
    "\n",
    "def is_up(x):                   \n",
    "    for i in x:\n",
    "        if 'A'<= i and i<='Z':\n",
    "            return True\n",
    "    return  False\n",
    "\n",
    "def is_num(x):                 \n",
    "    for i in x:\n",
    "        if '0'<=i and i<='9':\n",
    "            return True\n",
    "    return  False\n",
    "\n",
    "def is_other(x):                \n",
    "    for i in x:\n",
    "        if i=='$' or i=='#' or i=='@':\n",
    "            return True\n",
    "    return False\n",
    "\n",
    "s = input().split(',')\n",
    "lst = []\n",
    "\n",
    "for i in s:\n",
    "    length = len(i)\n",
    "    if 6 <= length and length <= 12 and is_low(i) and is_up(i) and is_num(i) and is_other(i):   #Checks if all the requirments are fulfilled\n",
    "        lst.append(i)\n",
    "\n",
    "print(\",\".join(lst))"
   ]
  },
  {
   "cell_type": "code",
   "execution_count": null,
   "id": "864ceb68-8f31-4b66-aa64-d0de97830da3",
   "metadata": {},
   "outputs": [],
   "source": [
    "Q9"
   ]
  },
  {
   "cell_type": "code",
   "execution_count": 10,
   "id": "1034c909-526d-4bda-aef6-cb210869ee47",
   "metadata": {},
   "outputs": [
    {
     "name": "stdout",
     "output_type": "stream",
     "text": [
      "Enter the name, age,score:\n"
     ]
    },
    {
     "name": "stdin",
     "output_type": "stream",
     "text": [
      " Tom,19,80\n",
      " John,20,90\n",
      " Jony,17,91\n",
      " Jony,17,93\n",
      " Json,21,85\n",
      " done\n"
     ]
    },
    {
     "name": "stdout",
     "output_type": "stream",
     "text": [
      "[('John', 20, 90), ('Jony', 17, 91), ('Jony', 17, 93), ('Json', 21, 85), ('Tom', 19, 80)]\n"
     ]
    }
   ],
   "source": [
    "def sort_tuples():\n",
    "    tuples = []\n",
    "    print(\"Enter the name, age,score:\")\n",
    "    \n",
    "    while True:\n",
    "        user_input = input()\n",
    "        if user_input.lower() == 'done':\n",
    "            break\n",
    "        name, age, score = user_input.split(',')\n",
    "        tuples.append((name, int(age), int(score)))\n",
    "\n",
    "    sorted_tuples = sorted(tuples, key=lambda x: (x[0], x[1], x[2]))\n",
    "\n",
    "    print(sorted_tuples)\n",
    "\n",
    "sort_tuples()\n"
   ]
  },
  {
   "cell_type": "code",
   "execution_count": null,
   "id": "d48df888-b3ad-4afe-a822-1b049f85c941",
   "metadata": {},
   "outputs": [],
   "source": [
    "Q10"
   ]
  },
  {
   "cell_type": "code",
   "execution_count": 13,
   "id": "1da1b7ee-1e33-4847-bf5d-9124c1705a6c",
   "metadata": {},
   "outputs": [
    {
     "name": "stdout",
     "output_type": "stream",
     "text": [
      "Enter movements:\n"
     ]
    },
    {
     "name": "stdin",
     "output_type": "stream",
     "text": [
      " UP 5, DOWN 3, LEFT 3, RIGHT 2\n"
     ]
    },
    {
     "name": "stdout",
     "output_type": "stream",
     "text": [
      "Distance from the original point: 2\n"
     ]
    }
   ],
   "source": [
    "import math\n",
    "def compute_robot_distance():\n",
    "    x, y = 0, 0\n",
    "    \n",
    "    print(\"Enter movements:\")\n",
    "    user_input = input()\n",
    "    movements = user_input.split(',')\n",
    "    \n",
    "    for movement in movements:\n",
    "        direction, steps = movement.strip().split()\n",
    "        steps = int(steps)\n",
    "        \n",
    "        if direction == \"UP\":\n",
    "            y += steps\n",
    "        elif direction == \"DOWN\":\n",
    "            y -= steps\n",
    "        elif direction == \"LEFT\":\n",
    "            x -= steps\n",
    "        elif direction == \"RIGHT\":\n",
    "            x += steps\n",
    "    \n",
    "    distance = math.sqrt(x**2 + y**2)\n",
    "    print(f\"Distance from the original point: {round(distance)}\")\n",
    "\n",
    "compute_robot_distance()\n"
   ]
  },
  {
   "cell_type": "code",
   "execution_count": null,
   "id": "16de4f1d-c5ee-4f3d-90c2-05c3ecd2e242",
   "metadata": {},
   "outputs": [],
   "source": [
    "Q11"
   ]
  },
  {
   "cell_type": "code",
   "execution_count": 2,
   "id": "913ea528-8472-443e-b92d-001b612a00ab",
   "metadata": {},
   "outputs": [
    {
     "name": "stdin",
     "output_type": "stream",
     "text": [
      "Enter a string:  Aabbcdeefffaabbcc\n"
     ]
    },
    {
     "name": "stdout",
     "output_type": "stream",
     "text": [
      "A1a1b2c1d1e2f3a2b2c2\n"
     ]
    }
   ],
   "source": [
    "def find_continuous_occurrence():\n",
    "    input_string = input(\"Enter a string: \") \n",
    "    result = []  \n",
    "    current_char = input_string[0]\n",
    "    count = 1\n",
    "    for i in range(1, len(input_string)):\n",
    "        if input_string[i] == current_char:\n",
    "            count += 1\n",
    "        else:\n",
    "            result.append(f\"{current_char}{count}\")\n",
    "            current_char = input_string[i]\n",
    "            count = 1\n",
    "    result.append(f\"{current_char}{count}\")\n",
    "    print(\"\".join(result))\n",
    "    \n",
    "find_continuous_occurrence()\n"
   ]
  },
  {
   "cell_type": "code",
   "execution_count": null,
   "id": "9ffe5645-e610-4b73-a951-6b5e497ba35b",
   "metadata": {},
   "outputs": [],
   "source": [
    "Q12"
   ]
  },
  {
   "cell_type": "code",
   "execution_count": 5,
   "id": "ac895dd6-e9fa-44af-a0d6-5a2f2c07912f",
   "metadata": {},
   "outputs": [
    {
     "name": "stdin",
     "output_type": "stream",
     "text": [
      "Enter an alphanumeric string:  a55b234cd9f63de54x3m\n"
     ]
    },
    {
     "name": "stdout",
     "output_type": "stream",
     "text": [
      "b,c\n",
      "d,f\n",
      "f,d\n",
      "e,x\n"
     ]
    }
   ],
   "source": [
    "def find():\n",
    "    input_string = input(\"Enter an alphanumeric string: \")\n",
    "    pairs = [] \n",
    "    i = 0\n",
    "    while i < len(input_string):\n",
    "        if input_string[i].isalpha(): \n",
    "            first_char = input_string[i]\n",
    "            num_sum = 0\n",
    "            i += 1\n",
    "            while i < len(input_string) and not input_string[i].isalpha():\n",
    "                if input_string[i].isdigit():  \n",
    "                    num_sum += int(input_string[i])\n",
    "                i += 1\n",
    "            \n",
    "            if i < len(input_string) and input_string[i].isalpha() and num_sum == 9:\n",
    "                second_char = input_string[i]\n",
    "                pairs.append((first_char, second_char))\n",
    "    for pair in pairs:\n",
    "        print(f\"{pair[0]},{pair[1]}\")\n",
    "find()\n"
   ]
  },
  {
   "cell_type": "code",
   "execution_count": null,
   "id": "e1e9fca6-1547-4480-9704-9f5eaa96e55a",
   "metadata": {},
   "outputs": [],
   "source": [
    "Q13"
   ]
  },
  {
   "cell_type": "code",
   "execution_count": 10,
   "id": "4cc6b6c8-f131-4aef-9ad9-3841eca6da2c",
   "metadata": {},
   "outputs": [
    {
     "name": "stdin",
     "output_type": "stream",
     "text": [
      "Enter a binary string:  1001101010010\n"
     ]
    },
    {
     "name": "stdout",
     "output_type": "stream",
     "text": [
      "15\n"
     ]
    }
   ],
   "source": [
    "def count():\n",
    "    binary_string = input(\"Enter a binary string: \")\n",
    "    ones = binary_string.count('1')\n",
    "    pair_count = ones * (ones- 1) // 2\n",
    "    print(pair_count)\n",
    "    \n",
    "count()\n"
   ]
  },
  {
   "cell_type": "code",
   "execution_count": null,
   "id": "fa73b913-68cd-4214-9f9e-c86486f0753c",
   "metadata": {},
   "outputs": [],
   "source": [
    "Q14"
   ]
  },
  {
   "cell_type": "code",
   "execution_count": 12,
   "id": "7309e947-febf-4bf9-b041-792075eb373f",
   "metadata": {},
   "outputs": [
    {
     "name": "stdin",
     "output_type": "stream",
     "text": [
      "Enter the amount of money:  556\n"
     ]
    },
    {
     "name": "stdout",
     "output_type": "stream",
     "text": [
      "500-1\n",
      "50-1\n",
      "5-1\n",
      "1-1\n"
     ]
    }
   ],
   "source": [
    "def find_minimum_denominations(valid_currency, money):\n",
    "    valid_currency.sort(reverse=True)\n",
    "    denominations_used = {}  \n",
    "    for denomination in valid_currency:\n",
    "        if money == 0:  \n",
    "            break\n",
    "        if denomination <= money:\n",
    "            count = money // denomination  \n",
    "            denominations_used[denomination] = count  \n",
    "            money -= denomination * count  \n",
    "    for denomination, count in denominations_used.items():\n",
    "        print(f\"{denomination}-{count}\")\n",
    "\n",
    "valid_currency = [1, 2, 5, 10, 20, 50, 100, 200, 500, 2000]\n",
    "money = int(input(\"Enter the amount of money: \"))\n",
    "find_minimum_denominations(valid_currency, money)\n"
   ]
  },
  {
   "cell_type": "code",
   "execution_count": null,
   "id": "5841286f-97c2-4f91-8770-11a4be984a86",
   "metadata": {},
   "outputs": [],
   "source": [
    "Q15"
   ]
  },
  {
   "cell_type": "code",
   "execution_count": 13,
   "id": "f0be4e1d-9efd-4372-b0be-f453d906b465",
   "metadata": {},
   "outputs": [
    {
     "name": "stdin",
     "output_type": "stream",
     "text": [
      "n: 12\n",
      "m: 4\n"
     ]
    },
    {
     "name": "stdout",
     "output_type": "stream",
     "text": [
      "Output: 126\n"
     ]
    }
   ],
   "source": [
    "import math\n",
    "\n",
    "def count_ways(n, m):\n",
    "    available_stops = n - m + 1\n",
    "    if available_stops < m or m < 0:\n",
    "        return 0\n",
    "    ways = math.comb(available_stops, m)\n",
    "    return ways\n",
    "n = int(input(\"n:\"))\n",
    "m = int(input(\"m:\"))\n",
    "result = count_ways(n, m)\n",
    "print(f\"Output: {result}\")\n"
   ]
  },
  {
   "cell_type": "code",
   "execution_count": null,
   "id": "71c1d958-d2a8-433e-bbba-bb504071c18b",
   "metadata": {},
   "outputs": [],
   "source": [
    "Q16"
   ]
  },
  {
   "cell_type": "code",
   "execution_count": 3,
   "id": "b58d4a38-35f5-44a4-ab0d-6a5ec628be4d",
   "metadata": {},
   "outputs": [
    {
     "name": "stdout",
     "output_type": "stream",
     "text": [
      "\n",
      "Round 1\n"
     ]
    },
    {
     "name": "stdin",
     "output_type": "stream",
     "text": [
      "Player A: Choose Stone, Paper, or Scissor:  stone\n",
      "Player B: Choose Stone, Paper, or Scissor:  paper\n"
     ]
    },
    {
     "name": "stdout",
     "output_type": "stream",
     "text": [
      "Player A: Stone  Player B: Paper   => Player B wins\n",
      "Score: Player A = 0, Player B = 1\n",
      "\n",
      "Round 2\n"
     ]
    },
    {
     "name": "stdin",
     "output_type": "stream",
     "text": [
      "Player A: Choose Stone, Paper, or Scissor:  stone\n",
      "Player B: Choose Stone, Paper, or Scissor:  stone\n"
     ]
    },
    {
     "name": "stdout",
     "output_type": "stream",
     "text": [
      "Player A: Stone  Player B: Stone   => DRAW\n",
      "Score: Player A = 0, Player B = 1\n",
      "\n",
      "Round 3\n"
     ]
    },
    {
     "name": "stdin",
     "output_type": "stream",
     "text": [
      "Player A: Choose Stone, Paper, or Scissor:  scissor \n",
      "Player B: Choose Stone, Paper, or Scissor:  paper\n"
     ]
    },
    {
     "name": "stdout",
     "output_type": "stream",
     "text": [
      "Invalid input! Please choose Stone, Paper, or Scissor.\n",
      "\n",
      "Round 3\n"
     ]
    },
    {
     "name": "stdin",
     "output_type": "stream",
     "text": [
      "Player A: Choose Stone, Paper, or Scissor:  done\n",
      "Player B: Choose Stone, Paper, or Scissor:  done\n"
     ]
    },
    {
     "name": "stdout",
     "output_type": "stream",
     "text": [
      "Invalid input! Please choose Stone, Paper, or Scissor.\n",
      "\n",
      "Round 3\n"
     ]
    },
    {
     "name": "stdin",
     "output_type": "stream",
     "text": [
      "Player A: Choose Stone, Paper, or Scissor:  stone\n",
      "Player B: Choose Stone, Paper, or Scissor:  paper\n"
     ]
    },
    {
     "name": "stdout",
     "output_type": "stream",
     "text": [
      "Player A: Stone  Player B: Paper   => Player B wins\n",
      "Score: Player A = 0, Player B = 2\n",
      "\n",
      "Round 4\n"
     ]
    },
    {
     "name": "stdin",
     "output_type": "stream",
     "text": [
      "Player A: Choose Stone, Paper, or Scissor:  paper\n",
      "Player B: Choose Stone, Paper, or Scissor:  scissor\n"
     ]
    },
    {
     "name": "stdout",
     "output_type": "stream",
     "text": [
      "Player A: Paper  Player B: Scissor   => Player B wins\n",
      "Score: Player A = 0, Player B = 3\n",
      "\n",
      "Round 5\n"
     ]
    },
    {
     "name": "stdin",
     "output_type": "stream",
     "text": [
      "Player A: Choose Stone, Paper, or Scissor:  scissor\n",
      "Player B: Choose Stone, Paper, or Scissor:  stone\n"
     ]
    },
    {
     "name": "stdout",
     "output_type": "stream",
     "text": [
      "Player A: Scissor  Player B: Stone   => Player B wins\n",
      "Score: Player A = 0, Player B = 4\n",
      "\n",
      "Round 6\n"
     ]
    },
    {
     "name": "stdin",
     "output_type": "stream",
     "text": [
      "Player A: Choose Stone, Paper, or Scissor:  paper\n",
      "Player B: Choose Stone, Paper, or Scissor:  scissor\n"
     ]
    },
    {
     "name": "stdout",
     "output_type": "stream",
     "text": [
      "Player A: Paper  Player B: Scissor   => Player B wins\n",
      "Score: Player A = 0, Player B = 5\n",
      "\n",
      "Player B is the overall winner!\n"
     ]
    }
   ],
   "source": [
    "def determine_winner(player_a_choice, player_b_choice):\n",
    "    if player_a_choice == player_b_choice:\n",
    "        return \"DRAW\"\n",
    "    elif (player_a_choice == \"Stone\" and player_b_choice == \"Scissor\") or \\\n",
    "         (player_a_choice == \"Paper\" and player_b_choice == \"Stone\") or \\\n",
    "         (player_a_choice == \"Scissor\" and player_b_choice == \"Paper\"):\n",
    "        return \"Player A wins\"\n",
    "    else:\n",
    "        return \"Player B wins\"\n",
    "\n",
    "def playgame():\n",
    "    score_a = 0  \n",
    "    score_b = 0  \n",
    "    rounds = 1   \n",
    "    while score_a < 5 and score_b < 5:\n",
    "        print(f\"\\nRound {rounds}\")\n",
    "        player_a_choice = input(\"Player A: Choose Stone, Paper, or Scissor: \")\n",
    "        player_b_choice = input(\"Player B: Choose Stone, Paper, or Scissor: \")\n",
    "        if player_a_choice not in [\"Stone\", \"Paper\", \"Scissor\",\"stone\",\"paper\",\"scissor\"] or player_b_choice not in [\"Stone\", \"Paper\", \"Scissor\",\"stone\",\"paper\",\"scissor\"]:\n",
    "            print(\"Invalid input! Please choose Stone, Paper, or Scissor.\")\n",
    "            continue\n",
    "        elif player_a_choice.islower()=='done':\n",
    "            break\n",
    "        result = determine_winner(player_a_choice, player_b_choice)\n",
    "        print(f\"Player A: {player_a_choice}  Player B: {player_b_choice}   => {result}\")\n",
    "        if result == \"Player A wins\":\n",
    "            score_a += 1\n",
    "        elif result == \"Player B wins\":\n",
    "            score_b += 1\n",
    "        print(f\"Score: Player A = {score_a}, Player B = {score_b}\")\n",
    "        rounds += 1\n",
    "\n",
    "    \n",
    "    if score_a == 5:\n",
    "        print(\"\\nPlayer A is the overall winner!\")\n",
    "    else:\n",
    "        print(\"\\nPlayer B is the overall winner!\")\n",
    "\n",
    "playgame()\n"
   ]
  },
  {
   "cell_type": "code",
   "execution_count": null,
   "id": "40f4c4b9-b6b8-45bd-896d-987e1e8a8206",
   "metadata": {},
   "outputs": [],
   "source": [
    "Q17"
   ]
  },
  {
   "cell_type": "code",
   "execution_count": 6,
   "id": "cfaaf942-da91-41d7-86d9-ddf2d24b4e49",
   "metadata": {},
   "outputs": [
    {
     "name": "stdin",
     "output_type": "stream",
     "text": [
      "Enter an email address to validate:  abc123@gmail.com\n"
     ]
    },
    {
     "name": "stdout",
     "output_type": "stream",
     "text": [
      "Valid email address.\n"
     ]
    }
   ],
   "source": [
    "def validate_email(email):\n",
    "    if email.count('@') != 1:\n",
    "        return \"Invalid email: Must contain exactly one '@' symbol.\"\n",
    "        \n",
    "    local_part, domain_part = email.split('@')\n",
    "    for char in local_part:\n",
    "        if not (char.islower() or char.isdigit() or char in ['.', '_']):\n",
    "            return \"Invalid email: Only lowercase letters, numbers, '.' and '_' are allowed in the local part.\"\n",
    "\n",
    "    if '.' not in domain_part:\n",
    "        return \"Invalid email: Domain must contain a '.' symbol.\"\n",
    "\n",
    "    for char in domain_part:\n",
    "        if not (char.islower() or char.isdigit() or char == '.'):\n",
    "            return \"Invalid email\"\n",
    "    return \"Valid email address.\"\n",
    "    \n",
    "email = input(\"Enter an email address to validate: \")\n",
    "result = validate_email(email)\n",
    "print(result)\n"
   ]
  },
  {
   "cell_type": "code",
   "execution_count": null,
   "id": "f45c69f0-e8b9-4a28-8c9c-49707bad8b93",
   "metadata": {},
   "outputs": [],
   "source": [
    "Q18--->a)"
   ]
  },
  {
   "cell_type": "code",
   "execution_count": 7,
   "id": "d3c38424-8516-4381-9b46-d964f63079c9",
   "metadata": {},
   "outputs": [
    {
     "name": "stdin",
     "output_type": "stream",
     "text": [
      "Enter row count:  4\n"
     ]
    },
    {
     "name": "stdout",
     "output_type": "stream",
     "text": [
      "1\n",
      "2 * 3\n",
      "4 * 5 * 6\n",
      "7 * 8 * 9 * 10\n"
     ]
    }
   ],
   "source": [
    "def print_pattern(row_count):\n",
    "    number = 1  \n",
    "    for i in range(1, row_count + 1):\n",
    "        row = []\n",
    "        for j in range(i):  \n",
    "            row.append(str(number))\n",
    "            number += 1\n",
    "        print(\" * \".join(row))\n",
    "row_count = int(input(\"Enter row count: \"))\n",
    "print_pattern(row_count)\n"
   ]
  },
  {
   "cell_type": "code",
   "execution_count": null,
   "id": "329eb9e1-c238-4fb3-a10f-976d9141a357",
   "metadata": {},
   "outputs": [],
   "source": [
    "Q18-->b)"
   ]
  },
  {
   "cell_type": "code",
   "execution_count": 10,
   "id": "23e0c345-5918-48e8-a05a-04953ec1662c",
   "metadata": {},
   "outputs": [
    {
     "name": "stdin",
     "output_type": "stream",
     "text": [
      "Enter row count:  4\n"
     ]
    },
    {
     "name": "stdout",
     "output_type": "stream",
     "text": [
      "    *\n",
      "   * *\n",
      "  * * *\n",
      " * * * *\n",
      "  * * *\n",
      "   * *\n",
      "    *\n"
     ]
    }
   ],
   "source": [
    "def print_diamond(row_count):\n",
    "    for i in range(1, row_count + 1):\n",
    "        print(\" \" * (row_count - i), end=\"\")\n",
    "        print(\" *\" * i)\n",
    "\n",
    "    for i in range(row_count - 1, 0, -1):\n",
    "        print(\" \" * (row_count - i), end=\"\")\n",
    "        print(\" *\" * i)\n",
    "\n",
    "row_count = int(input(\"Enter row count: \"))\n",
    "print_diamond(row_count)\n"
   ]
  },
  {
   "cell_type": "code",
   "execution_count": null,
   "id": "84677b53-a03e-408c-a616-2fcf2eecf37e",
   "metadata": {},
   "outputs": [],
   "source": [
    "Q18--->c)"
   ]
  },
  {
   "cell_type": "code",
   "execution_count": 11,
   "id": "b7cc3d6b-3c01-4fc8-b847-d461d4916162",
   "metadata": {},
   "outputs": [
    {
     "name": "stdin",
     "output_type": "stream",
     "text": [
      "Enter row count:  4\n"
     ]
    },
    {
     "name": "stdout",
     "output_type": "stream",
     "text": [
      "1\n",
      "2 * 3\n",
      "4 * 5 * 6\n",
      "7 * 8 * 9 * 10\n",
      "4 * 5 * 6\n",
      "2 * 3\n",
      "1\n"
     ]
    }
   ],
   "source": [
    "def print_number_pattern(row_count):\n",
    "    number = 1\n",
    "    rows = []  \n",
    "    for i in range(1, row_count + 1):\n",
    "        row = []\n",
    "        for j in range(i):\n",
    "            row.append(str(number))\n",
    "            number += 1\n",
    "        rows.append(\" * \".join(row))\n",
    "    for row in rows:\n",
    "        print(row)\n",
    "    for row in reversed(rows[:-1]):\n",
    "        print(row)\n",
    "\n",
    "row_count = int(input(\"Enter row count: \"))\n",
    "print_number_pattern(row_count)\n"
   ]
  },
  {
   "cell_type": "code",
   "execution_count": null,
   "id": "fbf0111b-2e3a-466a-a2db-29b460814ae8",
   "metadata": {},
   "outputs": [],
   "source": [
    "Q18--->d)"
   ]
  },
  {
   "cell_type": "code",
   "execution_count": 13,
   "id": "8d42e68a-0bfe-46af-96e2-be42870528a2",
   "metadata": {},
   "outputs": [
    {
     "name": "stdin",
     "output_type": "stream",
     "text": [
      "Enter number of rows:  8\n"
     ]
    },
    {
     "name": "stdout",
     "output_type": "stream",
     "text": [
      "  ***  \n",
      " *     \n",
      " *     \n",
      " * *** \n",
      " *    *\n",
      " *    *\n",
      "  * * *\n"
     ]
    }
   ],
   "source": [
    "def print_g_pattern(rows):\n",
    "    if rows < 7:\n",
    "        print(\"G pattern requires at least 7 rows.\")\n",
    "        return\n",
    "    pattern = [\n",
    "        \"  ***  \",     \n",
    "        \" *     \",     \n",
    "        \" *     \",    \n",
    "        \" * *** \",     \n",
    "        \" *    *\",     \n",
    "        \" *    *\",     \n",
    "        \"  * * *\"      \n",
    "    ]\n",
    "    for row in pattern:\n",
    "        print(row)\n",
    "        \n",
    "rows = int(input(\"Enter number of rows: \"))\n",
    "print_g_pattern(rows)\n"
   ]
  },
  {
   "cell_type": "code",
   "execution_count": null,
   "id": "1d149514-9d3f-48ac-9521-4352e99f8aa7",
   "metadata": {},
   "outputs": [],
   "source": [
    "Q18-->e)"
   ]
  },
  {
   "cell_type": "code",
   "execution_count": 14,
   "id": "bf999778-3863-4ece-a817-b623619d399b",
   "metadata": {},
   "outputs": [
    {
     "name": "stdin",
     "output_type": "stream",
     "text": [
      "Enter an odd row count:  5\n"
     ]
    },
    {
     "name": "stdout",
     "output_type": "stream",
     "text": [
      "1 1 1 1 1\n",
      "0 0 1 0 0\n",
      "0 0 1 0 0\n",
      "0 0 1 0 0\n",
      "1 1 1 1 1\n"
     ]
    }
   ],
   "source": [
    "def print_pattern(row_count):\n",
    "    if row_count % 2 == 0:\n",
    "        print(\"Please enter an odd number for row count.\")\n",
    "        return\n",
    "\n",
    "    mid = row_count // 2  \n",
    "    for i in range(row_count):\n",
    "        row = []\n",
    "        for j in range(row_count):\n",
    "            if i == 0 or i == row_count - 1 or j == mid:\n",
    "                row.append(\"1\")\n",
    "            else:\n",
    "                row.append(\"0\")\n",
    "        print(\" \".join(row))\n",
    "\n",
    "row_count = int(input(\"Enter an odd row count: \"))\n",
    "print_pattern(row_count)\n"
   ]
  },
  {
   "cell_type": "code",
   "execution_count": null,
   "id": "21a82675-0333-49d5-a018-be9006b0ed81",
   "metadata": {},
   "outputs": [],
   "source": [
    "Q19"
   ]
  },
  {
   "cell_type": "code",
   "execution_count": 15,
   "id": "b81d4eb3-e99e-4367-b1df-d2f79881aea3",
   "metadata": {},
   "outputs": [
    {
     "name": "stdin",
     "output_type": "stream",
     "text": [
      "Enter 1 or 2 1\n",
      "Enter the string:  happy\n",
      "Enter the number of times to rotate:  2\n"
     ]
    },
    {
     "name": "stdout",
     "output_type": "stream",
     "text": [
      "appyh\n",
      "ppyha\n"
     ]
    }
   ],
   "source": [
    "def rotate_string(s, direction, times):\n",
    "    length = len(s)\n",
    "    times = times % length\n",
    "    \n",
    "    for _ in range(times):\n",
    "        if direction == 1: \n",
    "            s = s[1:] + s[0]\n",
    "        elif direction == 2:  \n",
    "            s = s[-1] + s[:-1]\n",
    "        else:\n",
    "            print(\"Invalid direction. Use 1 for first to last and 2 for last to first.\")\n",
    "            return\n",
    "        \n",
    "        print(s)\n",
    "\n",
    "direction = int(input(\"Enter 1 or 2\"))\n",
    "string = input(\"Enter the string: \")\n",
    "times = int(input(\"Enter the number of times to rotate: \"))\n",
    "\n",
    "rotate_string(string, direction, times)\n"
   ]
  },
  {
   "cell_type": "code",
   "execution_count": null,
   "id": "50994cd8-6cc3-4358-b038-cb3ad20fadbe",
   "metadata": {},
   "outputs": [],
   "source": [
    "Q20"
   ]
  },
  {
   "cell_type": "code",
   "execution_count": 16,
   "id": "882c8bdc-38a5-404b-8c07-2bce8d39d7af",
   "metadata": {},
   "outputs": [
    {
     "name": "stdout",
     "output_type": "stream",
     "text": [
      "Please enter the following values for the patient:\n"
     ]
    },
    {
     "name": "stdin",
     "output_type": "stream",
     "text": [
      "Sugar level:  41\n",
      "Blood pressure:  -88\n",
      "Heartbeat rate:  26\n",
      "weight:  -2\n",
      "fat percentage:  57\n"
     ]
    },
    {
     "name": "stdout",
     "output_type": "stream",
     "text": [
      "\n",
      "Differences in readings:\n",
      "{'Sugar level': 26.0, 'Blood pressure': -208.0, 'Heartbeat rate': -44.0, 'weight': -67.0, 'fat percentage': 47.0}\n",
      "\n",
      "Warnings:\n",
      "Sugar level 26.00\n",
      "Sugar level is 26.00 more than the ideal value\n",
      "Blood pressure -208.00\n",
      "Blood pressure is 208.00 less than the ideal value\n",
      "Heartbeat rate -44.00\n",
      "Heartbeat rate is 44.00 less than the ideal value\n",
      "weight -67.00\n",
      "weight is 67.00 less than the ideal value\n",
      "fat percentage 47.00\n",
      "fat percentage is 47.00 more than the ideal value\n"
     ]
    }
   ],
   "source": [
    "def health_check():\n",
    "    healthy_patient_data = {\n",
    "        \"Sugar level\": 15,\n",
    "        \"Blood pressure\": 120,\n",
    "        \"Heartbeat rate\": 70,\n",
    "        \"weight\": 65,\n",
    "        \"fat percentage\": 10\n",
    "    }\n",
    "    patient_data = {}\n",
    "    \n",
    "    print(\"Please enter the following values for the patient:\")\n",
    "    for component in healthy_patient_data.keys():\n",
    "        value = float(input(f\"{component}: \"))\n",
    "        patient_data[component] = value\n",
    "    differences = {}\n",
    "    warnings = []\n",
    "    \n",
    "    for component, healthy_value in healthy_patient_data.items():\n",
    "        patient_value = patient_data[component]\n",
    "        difference = patient_value - healthy_value\n",
    "        differences[component] = difference\n",
    "        if difference < 0:\n",
    "            warnings.append(f\"{component} {difference:.2f}\\n{component} is {-difference:.2f} less than the ideal value\")\n",
    "        elif difference > 0:\n",
    "            warnings.append(f\"{component} {difference:.2f}\\n{component} is {difference:.2f} more than the ideal value\")\n",
    "\n",
    "    print(\"\\nDifferences in readings:\")\n",
    "    print(differences)\n",
    "    \n",
    "    print(\"\\nWarnings:\")\n",
    "    for warning in warnings:\n",
    "        print(warning)\n",
    "\n",
    "health_check()\n"
   ]
  },
  {
   "cell_type": "code",
   "execution_count": null,
   "id": "c33a8ddc-90bc-44d5-94e1-06562abc1c74",
   "metadata": {},
   "outputs": [],
   "source": [
    "Q21"
   ]
  },
  {
   "cell_type": "code",
   "execution_count": 17,
   "id": "d3b36768-069a-4584-86cf-c05bf0dc571c",
   "metadata": {},
   "outputs": [
    {
     "name": "stdin",
     "output_type": "stream",
     "text": [
      "Enter a number:  1634\n"
     ]
    },
    {
     "name": "stdout",
     "output_type": "stream",
     "text": [
      "Armstrong number\n"
     ]
    }
   ],
   "source": [
    "def is_armstrong_number(number):\n",
    "    str_num = str(number)\n",
    "    num_digits = len(str_num)\n",
    "    armstrong_sum = sum(int(digit) ** num_digits for digit in str_num)\n",
    "    return armstrong_sum == number\n",
    "\n",
    "input_number = int(input(\"Enter a number: \"))\n",
    "if is_armstrong_number(input_number):\n",
    "    print(\"Armstrong number\")\n",
    "else:\n",
    "    print(\"Not an Armstrong number\")\n"
   ]
  },
  {
   "cell_type": "code",
   "execution_count": null,
   "id": "d77cf838-7573-4215-8c00-f83a1a0045a7",
   "metadata": {},
   "outputs": [],
   "source": [
    "Q22"
   ]
  },
  {
   "cell_type": "code",
   "execution_count": 18,
   "id": "97aa6cc8-6674-4f91-b7ed-585ff06d29cf",
   "metadata": {},
   "outputs": [
    {
     "name": "stdin",
     "output_type": "stream",
     "text": [
      "Enter a decimal number:  12\n"
     ]
    },
    {
     "name": "stdout",
     "output_type": "stream",
     "text": [
      "Binary representation: 1100\n"
     ]
    }
   ],
   "source": [
    "def decimal_to_binary(n):\n",
    "    if n == 0:\n",
    "        return \"0\"\n",
    "    binary = \"\"\n",
    "    is_negative = n < 0\n",
    "    n = abs(n)\n",
    "    while n > 0:\n",
    "        remainder = n % 2\n",
    "        binary = str(remainder) + binary  \n",
    "        n //= 2  \n",
    "    return binary if not is_negative else '-' + binary\n",
    "\n",
    "decimal_number = int(input(\"Enter a decimal number: \"))\n",
    "binary_representation = decimal_to_binary(decimal_number)\n",
    "print(f\"Binary representation: {binary_representation}\")\n"
   ]
  },
  {
   "cell_type": "code",
   "execution_count": null,
   "id": "0e715d9e-1ee2-4b4f-89df-aa888bc92393",
   "metadata": {},
   "outputs": [],
   "source": [
    "Q23"
   ]
  },
  {
   "cell_type": "code",
   "execution_count": 19,
   "id": "37db11ab-82e5-40e4-9183-18a59aa7b564",
   "metadata": {},
   "outputs": [
    {
     "name": "stdin",
     "output_type": "stream",
     "text": [
      "Enter a number:  28\n"
     ]
    },
    {
     "name": "stdout",
     "output_type": "stream",
     "text": [
      "28 is a perfect number.\n"
     ]
    }
   ],
   "source": [
    "def is_perfect_number(num):\n",
    "    if num <= 0:\n",
    "        return False  \n",
    "    sum_of_divisors = 0\n",
    "    for i in range(1, num // 2 + 1):\n",
    "        if num % i == 0: \n",
    "            sum_of_divisors += i \n",
    "    return sum_of_divisors == num\n",
    "number = int(input(\"Enter a number: \"))\n",
    "if is_perfect_number(number):\n",
    "    print(f\"{number} is a perfect number.\")\n",
    "else:\n",
    "    print(f\"{number} is not a perfect number.\")\n"
   ]
  },
  {
   "cell_type": "code",
   "execution_count": null,
   "id": "1ac8c76e-6565-44f4-9da5-2bc6d4dc4ea2",
   "metadata": {},
   "outputs": [],
   "source": []
  }
 ],
 "metadata": {
  "kernelspec": {
   "display_name": "Python 3 (ipykernel)",
   "language": "python",
   "name": "python3"
  },
  "language_info": {
   "codemirror_mode": {
    "name": "ipython",
    "version": 3
   },
   "file_extension": ".py",
   "mimetype": "text/x-python",
   "name": "python",
   "nbconvert_exporter": "python",
   "pygments_lexer": "ipython3",
   "version": "3.11.7"
  }
 },
 "nbformat": 4,
 "nbformat_minor": 5
}
