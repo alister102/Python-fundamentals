{
 "cells": [
  {
   "cell_type": "code",
   "execution_count": 3,
   "id": "b2d01fd4-b2d1-42a3-a405-73ae6e1a7b97",
   "metadata": {},
   "outputs": [],
   "source": [
    "import pandas as pd"
   ]
  },
  {
   "cell_type": "code",
   "execution_count": 4,
   "id": "634f3bc1-5d17-4866-a769-9e4e5c708226",
   "metadata": {},
   "outputs": [
    {
     "data": {
      "text/html": [
       "<div>\n",
       "<style scoped>\n",
       "    .dataframe tbody tr th:only-of-type {\n",
       "        vertical-align: middle;\n",
       "    }\n",
       "\n",
       "    .dataframe tbody tr th {\n",
       "        vertical-align: top;\n",
       "    }\n",
       "\n",
       "    .dataframe thead th {\n",
       "        text-align: right;\n",
       "    }\n",
       "</style>\n",
       "<table border=\"1\" class=\"dataframe\">\n",
       "  <thead>\n",
       "    <tr style=\"text-align: right;\">\n",
       "      <th></th>\n",
       "      <th>Store</th>\n",
       "      <th>Year</th>\n",
       "      <th>Month</th>\n",
       "      <th>Super Division</th>\n",
       "      <th>Sales</th>\n",
       "      <th>SGM</th>\n",
       "      <th>Store Open</th>\n",
       "      <th>Store Close</th>\n",
       "      <th>Outlet Type</th>\n",
       "      <th>State</th>\n",
       "      <th>Climate</th>\n",
       "      <th>Total Sq Ft</th>\n",
       "      <th>Store Modification Date</th>\n",
       "      <th>Store Modification</th>\n",
       "    </tr>\n",
       "  </thead>\n",
       "  <tbody>\n",
       "    <tr>\n",
       "      <th>0</th>\n",
       "      <td>1</td>\n",
       "      <td>2015</td>\n",
       "      <td>2</td>\n",
       "      <td>GIRLS</td>\n",
       "      <td>63635.80</td>\n",
       "      <td>35692.09</td>\n",
       "      <td>1991-03-01</td>\n",
       "      <td>No Close date</td>\n",
       "      <td>Outlet</td>\n",
       "      <td>A1</td>\n",
       "      <td>Frigid</td>\n",
       "      <td>4735.0</td>\n",
       "      <td>2011-10-06 00:00:00</td>\n",
       "      <td>relocation</td>\n",
       "    </tr>\n",
       "    <tr>\n",
       "      <th>1</th>\n",
       "      <td>1</td>\n",
       "      <td>2015</td>\n",
       "      <td>2</td>\n",
       "      <td>BOYS</td>\n",
       "      <td>20872.93</td>\n",
       "      <td>15691.34</td>\n",
       "      <td>1991-03-01</td>\n",
       "      <td>No Close date</td>\n",
       "      <td>Outlet</td>\n",
       "      <td>A1</td>\n",
       "      <td>Frigid</td>\n",
       "      <td>4735.0</td>\n",
       "      <td>2011-10-06 00:00:00</td>\n",
       "      <td>relocation</td>\n",
       "    </tr>\n",
       "    <tr>\n",
       "      <th>2</th>\n",
       "      <td>1</td>\n",
       "      <td>2015</td>\n",
       "      <td>2</td>\n",
       "      <td>ACCESSORIES</td>\n",
       "      <td>38717.03</td>\n",
       "      <td>23866.25</td>\n",
       "      <td>1991-03-01</td>\n",
       "      <td>No Close date</td>\n",
       "      <td>Outlet</td>\n",
       "      <td>A1</td>\n",
       "      <td>Frigid</td>\n",
       "      <td>4735.0</td>\n",
       "      <td>2011-10-06 00:00:00</td>\n",
       "      <td>relocation</td>\n",
       "    </tr>\n",
       "    <tr>\n",
       "      <th>3</th>\n",
       "      <td>1</td>\n",
       "      <td>2015</td>\n",
       "      <td>2</td>\n",
       "      <td>KIDS</td>\n",
       "      <td>11455.00</td>\n",
       "      <td>12110.00</td>\n",
       "      <td>1991-03-01</td>\n",
       "      <td>No Close date</td>\n",
       "      <td>Outlet</td>\n",
       "      <td>A1</td>\n",
       "      <td>Frigid</td>\n",
       "      <td>4735.0</td>\n",
       "      <td>2011-10-06 00:00:00</td>\n",
       "      <td>relocation</td>\n",
       "    </tr>\n",
       "    <tr>\n",
       "      <th>4</th>\n",
       "      <td>1</td>\n",
       "      <td>2015</td>\n",
       "      <td>3</td>\n",
       "      <td>GIRLS</td>\n",
       "      <td>67507.77</td>\n",
       "      <td>42237.79</td>\n",
       "      <td>1991-03-01</td>\n",
       "      <td>No Close date</td>\n",
       "      <td>Outlet</td>\n",
       "      <td>A1</td>\n",
       "      <td>Frigid</td>\n",
       "      <td>4735.0</td>\n",
       "      <td>2011-10-06 00:00:00</td>\n",
       "      <td>relocation</td>\n",
       "    </tr>\n",
       "    <tr>\n",
       "      <th>...</th>\n",
       "      <td>...</td>\n",
       "      <td>...</td>\n",
       "      <td>...</td>\n",
       "      <td>...</td>\n",
       "      <td>...</td>\n",
       "      <td>...</td>\n",
       "      <td>...</td>\n",
       "      <td>...</td>\n",
       "      <td>...</td>\n",
       "      <td>...</td>\n",
       "      <td>...</td>\n",
       "      <td>...</td>\n",
       "      <td>...</td>\n",
       "      <td>...</td>\n",
       "    </tr>\n",
       "    <tr>\n",
       "      <th>181232</th>\n",
       "      <td>830</td>\n",
       "      <td>2017</td>\n",
       "      <td>6</td>\n",
       "      <td>BOYS</td>\n",
       "      <td>44711.93</td>\n",
       "      <td>10797.28</td>\n",
       "      <td>2005-11-10</td>\n",
       "      <td>2017-06-26 00:00:00</td>\n",
       "      <td>Strip</td>\n",
       "      <td>B9</td>\n",
       "      <td>Hot</td>\n",
       "      <td>5730.5</td>\n",
       "      <td>2014-02-06 00:00:00</td>\n",
       "      <td>relocation</td>\n",
       "    </tr>\n",
       "    <tr>\n",
       "      <th>181233</th>\n",
       "      <td>830</td>\n",
       "      <td>2017</td>\n",
       "      <td>6</td>\n",
       "      <td>ACCESSORIES</td>\n",
       "      <td>33539.67</td>\n",
       "      <td>15998.07</td>\n",
       "      <td>2005-11-10</td>\n",
       "      <td>2017-06-26 00:00:00</td>\n",
       "      <td>Strip</td>\n",
       "      <td>B9</td>\n",
       "      <td>Hot</td>\n",
       "      <td>5730.5</td>\n",
       "      <td>2014-02-06 00:00:00</td>\n",
       "      <td>relocation</td>\n",
       "    </tr>\n",
       "    <tr>\n",
       "      <th>181234</th>\n",
       "      <td>830</td>\n",
       "      <td>2017</td>\n",
       "      <td>6</td>\n",
       "      <td>KIDS</td>\n",
       "      <td>11648.04</td>\n",
       "      <td>12042.24</td>\n",
       "      <td>2005-11-10</td>\n",
       "      <td>2017-06-26 00:00:00</td>\n",
       "      <td>Strip</td>\n",
       "      <td>B9</td>\n",
       "      <td>Hot</td>\n",
       "      <td>5730.5</td>\n",
       "      <td>2014-02-06 00:00:00</td>\n",
       "      <td>relocation</td>\n",
       "    </tr>\n",
       "    <tr>\n",
       "      <th>181235</th>\n",
       "      <td>830</td>\n",
       "      <td>2017</td>\n",
       "      <td>7</td>\n",
       "      <td>BOYS</td>\n",
       "      <td>11455.42</td>\n",
       "      <td>12107.08</td>\n",
       "      <td>2005-11-10</td>\n",
       "      <td>2017-06-26 00:00:00</td>\n",
       "      <td>Strip</td>\n",
       "      <td>B9</td>\n",
       "      <td>Hot</td>\n",
       "      <td>5730.5</td>\n",
       "      <td>2014-02-06 00:00:00</td>\n",
       "      <td>relocation</td>\n",
       "    </tr>\n",
       "    <tr>\n",
       "      <th>181236</th>\n",
       "      <td>830</td>\n",
       "      <td>2017</td>\n",
       "      <td>7</td>\n",
       "      <td>ACCESSORIES</td>\n",
       "      <td>11456.70</td>\n",
       "      <td>12106.46</td>\n",
       "      <td>2005-11-10</td>\n",
       "      <td>2017-06-26 00:00:00</td>\n",
       "      <td>Strip</td>\n",
       "      <td>B9</td>\n",
       "      <td>Hot</td>\n",
       "      <td>5730.5</td>\n",
       "      <td>2014-02-06 00:00:00</td>\n",
       "      <td>relocation</td>\n",
       "    </tr>\n",
       "  </tbody>\n",
       "</table>\n",
       "<p>181237 rows × 14 columns</p>\n",
       "</div>"
      ],
      "text/plain": [
       "        Store  Year  Month Super Division     Sales       SGM Store Open  \\\n",
       "0           1  2015      2          GIRLS  63635.80  35692.09 1991-03-01   \n",
       "1           1  2015      2           BOYS  20872.93  15691.34 1991-03-01   \n",
       "2           1  2015      2    ACCESSORIES  38717.03  23866.25 1991-03-01   \n",
       "3           1  2015      2           KIDS  11455.00  12110.00 1991-03-01   \n",
       "4           1  2015      3          GIRLS  67507.77  42237.79 1991-03-01   \n",
       "...       ...   ...    ...            ...       ...       ...        ...   \n",
       "181232    830  2017      6           BOYS  44711.93  10797.28 2005-11-10   \n",
       "181233    830  2017      6    ACCESSORIES  33539.67  15998.07 2005-11-10   \n",
       "181234    830  2017      6           KIDS  11648.04  12042.24 2005-11-10   \n",
       "181235    830  2017      7           BOYS  11455.42  12107.08 2005-11-10   \n",
       "181236    830  2017      7    ACCESSORIES  11456.70  12106.46 2005-11-10   \n",
       "\n",
       "                Store Close Outlet Type State Climate  Total Sq Ft  \\\n",
       "0             No Close date      Outlet    A1  Frigid       4735.0   \n",
       "1             No Close date      Outlet    A1  Frigid       4735.0   \n",
       "2             No Close date      Outlet    A1  Frigid       4735.0   \n",
       "3             No Close date      Outlet    A1  Frigid       4735.0   \n",
       "4             No Close date      Outlet    A1  Frigid       4735.0   \n",
       "...                     ...         ...   ...     ...          ...   \n",
       "181232  2017-06-26 00:00:00       Strip    B9     Hot       5730.5   \n",
       "181233  2017-06-26 00:00:00       Strip    B9     Hot       5730.5   \n",
       "181234  2017-06-26 00:00:00       Strip    B9     Hot       5730.5   \n",
       "181235  2017-06-26 00:00:00       Strip    B9     Hot       5730.5   \n",
       "181236  2017-06-26 00:00:00       Strip    B9     Hot       5730.5   \n",
       "\n",
       "       Store Modification Date Store Modification  \n",
       "0          2011-10-06 00:00:00         relocation  \n",
       "1          2011-10-06 00:00:00         relocation  \n",
       "2          2011-10-06 00:00:00         relocation  \n",
       "3          2011-10-06 00:00:00         relocation  \n",
       "4          2011-10-06 00:00:00         relocation  \n",
       "...                        ...                ...  \n",
       "181232     2014-02-06 00:00:00         relocation  \n",
       "181233     2014-02-06 00:00:00         relocation  \n",
       "181234     2014-02-06 00:00:00         relocation  \n",
       "181235     2014-02-06 00:00:00         relocation  \n",
       "181236     2014-02-06 00:00:00         relocation  \n",
       "\n",
       "[181237 rows x 14 columns]"
      ]
     },
     "execution_count": 4,
     "metadata": {},
     "output_type": "execute_result"
    }
   ],
   "source": [
    "df=pd.read_excel(\"C:\\\\Users\\\\4HIN\\\\Downloads\\\\DS Internship - EDA - Data.xlsx\")\n",
    "df"
   ]
  },
  {
   "cell_type": "code",
   "execution_count": null,
   "id": "874ced81-d5cd-4975-b21c-38ceadd13c44",
   "metadata": {},
   "outputs": [],
   "source": [
    "#1.Initial Exploration: \n",
    "#a.Find total sales by year."
   ]
  },
  {
   "cell_type": "code",
   "execution_count": 14,
   "id": "1db1f5d5-9532-456a-ac4f-cbb28be43f79",
   "metadata": {},
   "outputs": [
    {
     "data": {
      "text/plain": [
       "Year\n",
       "2015    1.627585e+09\n",
       "2016    1.843939e+09\n",
       "2017    1.651322e+09\n",
       "2018    1.492340e+09\n",
       "2019    1.471963e+09\n",
       "2020    6.510899e+07\n",
       "Name: Sales, dtype: float64"
      ]
     },
     "execution_count": 14,
     "metadata": {},
     "output_type": "execute_result"
    }
   ],
   "source": [
    "total_sales_by_year=df.groupby('Year')['Sales'].sum()\n",
    "total_sales_by_year"
   ]
  },
  {
   "cell_type": "code",
   "execution_count": null,
   "id": "fdb9774e-e06a-421b-9638-9a422fe7881a",
   "metadata": {},
   "outputs": [],
   "source": [
    "#b.Number of stores opened in the year 1991."
   ]
  },
  {
   "cell_type": "code",
   "execution_count": 6,
   "id": "7c6bc5ef-5c49-4614-801e-c56239d6a2d4",
   "metadata": {},
   "outputs": [
    {
     "data": {
      "text/plain": [
       "4"
      ]
     },
     "execution_count": 6,
     "metadata": {},
     "output_type": "execute_result"
    }
   ],
   "source": [
    "df['Store Open'] = pd.to_datetime(df['Store Open'], errors='coerce')\n",
    "store_opened_1991=df[df['Store Open'].dt.year==1991]['Store'].nunique()\n",
    "store_opened_1991"
   ]
  },
  {
   "cell_type": "code",
   "execution_count": null,
   "id": "9b9f48e9-d48a-4a3c-9bd0-1428a5aa0c9f",
   "metadata": {},
   "outputs": [],
   "source": [
    "#c.Number of stores remodeled (consider all types of remodeling)"
   ]
  },
  {
   "cell_type": "code",
   "execution_count": 9,
   "id": "abde2914-deaf-4be5-85e0-d83f5d01ce5f",
   "metadata": {},
   "outputs": [
    {
     "data": {
      "text/plain": [
       "830"
      ]
     },
     "execution_count": 9,
     "metadata": {},
     "output_type": "execute_result"
    }
   ],
   "source": [
    "stores_remodeled = df[~df['Store Modification'].isna()]['Store'].nunique()\n",
    "stores_remodeled "
   ]
  },
  {
   "cell_type": "code",
   "execution_count": null,
   "id": "1099d3de-e84e-45ae-a7dc-69d96ff5239b",
   "metadata": {},
   "outputs": [],
   "source": [
    "#Find the direct relationship (if any) between Sales and total sq. ft."
   ]
  },
  {
   "cell_type": "code",
   "execution_count": 10,
   "id": "66931af1-e85a-4439-8646-aa5a66fd11b2",
   "metadata": {},
   "outputs": [
    {
     "data": {
      "text/plain": [
       "0.1392254401944675"
      ]
     },
     "execution_count": 10,
     "metadata": {},
     "output_type": "execute_result"
    }
   ],
   "source": [
    "sales_sqft=df[['Sales','Total Sq Ft']].corr().iloc[0,1]\n",
    "sales_sqft"
   ]
  },
  {
   "cell_type": "code",
   "execution_count": null,
   "id": "230b2339-e09f-4c7a-a388-e35ec434081d",
   "metadata": {},
   "outputs": [],
   "source": [
    "#Most profitable Super Division (profitability can be based on total sales by super division)"
   ]
  },
  {
   "cell_type": "code",
   "execution_count": 12,
   "id": "a453dc52-7f2d-45d0-b33c-91a5c3019025",
   "metadata": {},
   "outputs": [
    {
     "data": {
      "text/plain": [
       "'GIRLS'"
      ]
     },
     "execution_count": 12,
     "metadata": {},
     "output_type": "execute_result"
    }
   ],
   "source": [
    "profitable=df.groupby('Super Division')['Sales'].sum().idxmax()\n",
    "profitable"
   ]
  },
  {
   "cell_type": "code",
   "execution_count": null,
   "id": "dbafc361-b061-4864-975c-5769163c8f2d",
   "metadata": {},
   "outputs": [],
   "source": [
    "#Number of active stores as of today (i.e., no closing date)"
   ]
  },
  {
   "cell_type": "code",
   "execution_count": 13,
   "id": "a09e0070-4abd-4244-ab68-a2776dbbb30e",
   "metadata": {},
   "outputs": [
    {
     "data": {
      "text/plain": [
       "678"
      ]
     },
     "execution_count": 13,
     "metadata": {},
     "output_type": "execute_result"
    }
   ],
   "source": [
    "act_stores=df[df['Store Close']=='No Close date']['Store'].nunique()\n",
    "act_stores"
   ]
  },
  {
   "cell_type": "code",
   "execution_count": null,
   "id": "f3c50c5c-7de8-4de3-b97f-00d2fad6678d",
   "metadata": {},
   "outputs": [],
   "source": [
    "#Super Division with more sq. ft on average"
   ]
  },
  {
   "cell_type": "code",
   "execution_count": 14,
   "id": "923d5e5e-ea4a-4b1d-b6ff-cd96ae5e4442",
   "metadata": {},
   "outputs": [
    {
     "data": {
      "text/plain": [
       "'KIDS'"
      ]
     },
     "execution_count": 14,
     "metadata": {},
     "output_type": "execute_result"
    }
   ],
   "source": [
    "super_div_avg_sqft = df.groupby('Super Division')['Total Sq Ft'].mean().idxmax()\n",
    "super_div_avg_sqft"
   ]
  },
  {
   "cell_type": "code",
   "execution_count": null,
   "id": "c1766d34-9319-4e71-94da-1482309da6e1",
   "metadata": {},
   "outputs": [],
   "source": [
    "#2.Advanced Insights: \n",
    "#a.What are the top 3 potential candidate states to consider for opening a new store?"
   ]
  },
  {
   "cell_type": "code",
   "execution_count": 16,
   "id": "c98a8fbd-25d8-4a6e-b418-96768bf162c0",
   "metadata": {},
   "outputs": [
    {
     "data": {
      "text/plain": [
       "State\n",
       "E4    58183.380314\n",
       "B6    50044.942593\n",
       "B5    49776.118243\n",
       "Name: Sales, dtype: float64"
      ]
     },
     "execution_count": 16,
     "metadata": {},
     "output_type": "execute_result"
    }
   ],
   "source": [
    "state_perf = df.groupby('State')['Sales'].mean().sort_values(ascending=False).head(3)\n",
    "state_perf"
   ]
  },
  {
   "cell_type": "code",
   "execution_count": null,
   "id": "9bbeb060-2d80-4ab1-a354-c80444f0b84b",
   "metadata": {},
   "outputs": [],
   "source": [
    "# b.Best time of the year to consider opening a store (based on sales by month)"
   ]
  },
  {
   "cell_type": "code",
   "execution_count": 18,
   "id": "3a6b0c64-bdae-49ab-bee3-7e279bf5016d",
   "metadata": {},
   "outputs": [
    {
     "data": {
      "text/plain": [
       "12"
      ]
     },
     "execution_count": 18,
     "metadata": {},
     "output_type": "execute_result"
    }
   ],
   "source": [
    "best_month_to_open = df.groupby('Month')['Sales'].mean().idxmax()\n",
    "best_month_to_open"
   ]
  },
  {
   "cell_type": "code",
   "execution_count": null,
   "id": "1b0dd94c-1814-4e99-ae42-29803e8b7dd7",
   "metadata": {},
   "outputs": [],
   "source": [
    "# c.Outlet type effects on store closure"
   ]
  },
  {
   "cell_type": "code",
   "execution_count": 21,
   "id": "ea902d63-76ea-4391-b407-809daf714cf2",
   "metadata": {},
   "outputs": [
    {
     "data": {
      "text/plain": [
       "Outlet Type\n",
       "Outlet    0.336364\n",
       "Strip     0.234421\n",
       "Mall      0.093995\n",
       "Name: Store, dtype: float64"
      ]
     },
     "execution_count": 21,
     "metadata": {},
     "output_type": "execute_result"
    }
   ],
   "source": [
    "closed_stores = df[df['Store Close'] != 'No Close date'].groupby('Outlet Type')['Store'].nunique()\n",
    "active_stores = df[df['Store Close'] == 'No Close date'].groupby('Outlet Type')['Store'].nunique()\n",
    "\n",
    "total_stores = closed_stores.add(active_stores, fill_value=0)\n",
    "\n",
    "closure_rate = (closed_stores / total_stores).sort_values(ascending=False)\n",
    "closure_rate"
   ]
  }
 ],
 "metadata": {
  "kernelspec": {
   "display_name": "Python 3 (ipykernel)",
   "language": "python",
   "name": "python3"
  },
  "language_info": {
   "codemirror_mode": {
    "name": "ipython",
    "version": 3
   },
   "file_extension": ".py",
   "mimetype": "text/x-python",
   "name": "python",
   "nbconvert_exporter": "python",
   "pygments_lexer": "ipython3",
   "version": "3.11.7"
  }
 },
 "nbformat": 4,
 "nbformat_minor": 5
}
